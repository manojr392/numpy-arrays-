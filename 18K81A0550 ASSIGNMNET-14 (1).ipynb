{
 "cells": [
  {
   "cell_type": "markdown",
   "metadata": {},
   "source": [
    "![](https://datai.co/datai.png) "
   ]
  },
  {
   "cell_type": "markdown",
   "metadata": {},
   "source": [
    "### Evaluate the dataset containing Olympics data to:\n",
    "* Find and print the name(s) of the country that won maximum gold medals\n",
    "* Find and print the countries that have won atleast 25 gold medals\n",
    "* Print the medal tally - each country name - gold medals - total number of medals won"
   ]
  },
  {
   "cell_type": "code",
   "execution_count": 15,
   "metadata": {},
   "outputs": [],
   "source": [
    "import numpy as np"
   ]
  },
  {
   "cell_type": "code",
   "execution_count": 16,
   "metadata": {},
   "outputs": [],
   "source": [
    "#Dataset from summer Olympic London, year 2012\n",
    "np_olympic_country = np.array(['GBR','CHN','RUS','USA','KOR','JPN','GER'])\n",
    "np_olympic_country_Gold = np.array([29,38,24,46,13,7,11])\n",
    "np_olympic_country_Silver = np.array([17,28,25,28,8,14,11])\n",
    "np_olympic_country_Silver = np.array([19,22,32,29,7,17,14])"
   ]
  },
  {
   "cell_type": "code",
   "execution_count": 17,
   "metadata": {},
   "outputs": [
    {
     "name": "stdout",
     "output_type": "stream",
     "text": [
      "'USA'\n"
     ]
    }
   ],
   "source": [
    "print(\"'{}'\".format(np_olympic_country[np_olympic_country_Gold.argmax()]))#country with maximum no of gold medals\n"
   ]
  },
  {
   "cell_type": "code",
   "execution_count": 41,
   "metadata": {},
   "outputs": [
    {
     "name": "stdout",
     "output_type": "stream",
     "text": [
      "the countries with atleast 25 gold medals are : ['GBR' 'CHN' 'USA']\n"
     ]
    }
   ],
   "source": [
    "c = np.array([key for key,value in zip(np_olympic_country,np_olympic_country_Gold) if value>=25])#printing countries with atlaest 25 gold medals\n",
    "print(\"the countries with atleast 25 gold medals are :\",c)"
   ]
  },
  {
   "cell_type": "code",
   "execution_count": 34,
   "metadata": {},
   "outputs": [],
   "source": [
    "#print each country name with number of gold medals\n",
    "#print each country name with total number of medals\n"
   ]
  },
  {
   "cell_type": "code",
   "execution_count": 75,
   "metadata": {},
   "outputs": [
    {
     "name": "stdout",
     "output_type": "stream",
     "text": [
      "COUNTRIES AND THEIR RESPCETIVE GOLD MEDALS\n",
      "'GBR' : 29\n",
      "'CHN' : 38\n",
      "'RUS' : 24\n",
      "'USA' : 46\n",
      "'KOR' : 13\n",
      "'JPN' : 7\n",
      "'GER' : 11\n",
      "COUNTRIES AND THEIR TOTAL MEDALS\n",
      "'GBR' : 63\n",
      "'CHN' : 94\n",
      "'RUS' : 74\n",
      "'USA' : 102\n",
      "'KOR' : 29\n",
      "'JPN' : 35\n",
      "'GER' : 33\n"
     ]
    }
   ],
   "source": [
    "print(\"COUNTRIES AND THEIR RESPCETIVE GOLD MEDALS\")\n",
    "for key,value in zip(np_olympic_country,np_olympic_country_Gold):\n",
    "    print(\"'{}' : {}\".format(key,value))\n",
    "print(\"COUNTRIES AND THEIR TOTAL MEDALS\")\n",
    "for key,value in zip(np_olympic_country,(np_olympic_country_Gold + np_olympic_country_Silver + np_olympic_country_Silver)):\n",
    "    print(\"'{}' : {}\".format(key,value))\n",
    "    \n"
   ]
  },
  {
   "cell_type": "code",
   "execution_count": null,
   "metadata": {},
   "outputs": [],
   "source": []
  }
 ],
 "metadata": {
  "kernelspec": {
   "display_name": "Python 3",
   "language": "python",
   "name": "python3"
  },
  "language_info": {
   "codemirror_mode": {
    "name": "ipython",
    "version": 3
   },
   "file_extension": ".py",
   "mimetype": "text/x-python",
   "name": "python",
   "nbconvert_exporter": "python",
   "pygments_lexer": "ipython3",
   "version": "3.8.3"
  }
 },
 "nbformat": 4,
 "nbformat_minor": 1
}
